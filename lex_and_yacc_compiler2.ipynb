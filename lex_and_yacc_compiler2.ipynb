{
  "nbformat": 4,
  "nbformat_minor": 0,
  "metadata": {
    "colab": {
      "provenance": [],
      "include_colab_link": true
    },
    "kernelspec": {
      "name": "python3",
      "display_name": "Python 3"
    },
    "language_info": {
      "name": "python"
    }
  },
  "cells": [
    {
      "cell_type": "markdown",
      "metadata": {
        "id": "view-in-github",
        "colab_type": "text"
      },
      "source": [
        "<a href=\"https://colab.research.google.com/github/shaffie4488/trident4488/blob/main/lex_and_yacc_compiler2.ipynb\" target=\"_parent\"><img src=\"https://colab.research.google.com/assets/colab-badge.svg\" alt=\"Open In Colab\"/></a>"
      ]
    },
    {
      "cell_type": "code",
      "source": [
        "!sudo apt-get update\n",
        "!sudo apt-get install -y flex\n"
      ],
      "metadata": {
        "colab": {
          "base_uri": "https://localhost:8080/"
        },
        "id": "1IB0FG-uIC_w",
        "outputId": "6b9e24e6-861f-42ca-9bda-9b6288145b91"
      },
      "execution_count": null,
      "outputs": [
        {
          "output_type": "stream",
          "name": "stdout",
          "text": [
            "\r0% [Working]\r            \rHit:1 https://cli.github.com/packages stable InRelease\n",
            "\r0% [Connecting to archive.ubuntu.com (185.125.190.36)] [Connecting to security.\r                                                                               \rHit:2 https://developer.download.nvidia.com/compute/cuda/repos/ubuntu2204/x86_64  InRelease\n",
            "Hit:3 https://cloud.r-project.org/bin/linux/ubuntu jammy-cran40/ InRelease\n",
            "Get:4 http://security.ubuntu.com/ubuntu jammy-security InRelease [129 kB]\n",
            "Hit:5 http://archive.ubuntu.com/ubuntu jammy InRelease\n",
            "Hit:6 https://r2u.stat.illinois.edu/ubuntu jammy InRelease\n",
            "Get:7 http://archive.ubuntu.com/ubuntu jammy-updates InRelease [128 kB]\n",
            "Hit:8 https://ppa.launchpadcontent.net/deadsnakes/ppa/ubuntu jammy InRelease\n",
            "Hit:9 https://ppa.launchpadcontent.net/graphics-drivers/ppa/ubuntu jammy InRelease\n",
            "Get:10 http://archive.ubuntu.com/ubuntu jammy-backports InRelease [127 kB]\n",
            "Hit:11 https://ppa.launchpadcontent.net/ubuntugis/ppa/ubuntu jammy InRelease\n",
            "Fetched 384 kB in 1s (320 kB/s)\n",
            "Reading package lists... Done\n",
            "W: Skipping acquire of configured file 'main/source/Sources' as repository 'https://r2u.stat.illinois.edu/ubuntu jammy InRelease' does not seem to provide it (sources.list entry misspelt?)\n",
            "Reading package lists... Done\n",
            "Building dependency tree... Done\n",
            "Reading state information... Done\n",
            "flex is already the newest version (2.6.4-8build2).\n",
            "0 upgraded, 0 newly installed, 0 to remove and 39 not upgraded.\n"
          ]
        }
      ]
    },
    {
      "cell_type": "code",
      "source": [
        "%%writefile scanner.l\n",
        "%{\n",
        "%}\n",
        "identifier [a-zA-Z][a-zA-Z0-9]*\n",
        "%%\n",
        "#.*              {printf(\"\\n%s is a preprocessor dir\",yytext);}\n",
        "int              {printf(\"\\n\\t%s is a keyword\",yytext);}\n",
        "{identifier}\\(    {printf(\"\\n\\nFUNCTION\\n\\t%s\",yytext);}\n",
        "\\{               {printf(\"\\nBLOCK BEGINS\");}\n",
        "\\}               {printf(\"\\nBLOCK ENDS\");}\n",
        "{identifier}      {printf(\"\\n%s is an IDENTIFIER\",yytext);}\n",
        ".|\\n             ;\n",
        "%%\n",
        "int main(int argc,char **argv)\n",
        "{\n",
        "    if(argc>1)\n",
        "    {\n",
        "        FILE *file;\n",
        "        file = fopen(argv[1],\"r\");\n",
        "        if(!file)\n",
        "        {\n",
        "            printf(\"\\n could not open %s\\n\",argv[1]);\n",
        "            exit(0);\n",
        "        }\n",
        "        yyin = file;\n",
        "    }\n",
        "    yylex();\n",
        "    printf(\"\\n\\n\");\n",
        "    return 0;\n",
        "}\n",
        "int yywrap()\n",
        "{\n",
        "    return 1;\n",
        "}\n"
      ],
      "metadata": {
        "colab": {
          "base_uri": "https://localhost:8080/"
        },
        "id": "ZpkQea16IGtQ",
        "outputId": "2b06face-6c74-4847-8f0f-b530a834e64f"
      },
      "execution_count": null,
      "outputs": [
        {
          "output_type": "stream",
          "name": "stdout",
          "text": [
            "Writing scanner.l\n"
          ]
        }
      ]
    },
    {
      "cell_type": "code",
      "source": [
        "%%writefile input.c\n",
        "#include <stdio.h>\n",
        "int main()\n",
        "{\n",
        "int a, b, sum;\n",
        "printf(\"Enter two integers: \");\n",
        "scanf(\"%d %d\", &a, &b);\n",
        "sum = a + b;\n",
        "printf(\"%d + %d = %d\", a, b, sum);\n",
        "return 0;\n",
        "}\n"
      ],
      "metadata": {
        "colab": {
          "base_uri": "https://localhost:8080/"
        },
        "id": "iiSRsiB5IJjX",
        "outputId": "bd5cdfd3-85be-4217-ecbe-8207ea1061ef"
      },
      "execution_count": null,
      "outputs": [
        {
          "output_type": "stream",
          "name": "stdout",
          "text": [
            "Writing input.c\n"
          ]
        }
      ]
    },
    {
      "cell_type": "code",
      "source": [
        "!flex scanner.l\n",
        "!gcc lex.yy.c -o scanner -lfl\n"
      ],
      "metadata": {
        "id": "DoS5wbQWIMZP"
      },
      "execution_count": null,
      "outputs": []
    },
    {
      "cell_type": "code",
      "source": [
        "!./scanner input.c\n"
      ],
      "metadata": {
        "colab": {
          "base_uri": "https://localhost:8080/"
        },
        "id": "0qf2pnYyIQYP",
        "outputId": "52b5fb85-8cbd-4a8b-e5d1-94cd9f1f073e"
      },
      "execution_count": null,
      "outputs": [
        {
          "output_type": "stream",
          "name": "stdout",
          "text": [
            "\n",
            "#include <stdio.h> is a preprocessor dir\n",
            "\tint is a keyword\n",
            "\n",
            "FUNCTION\n",
            "\tmain(\n",
            "BLOCK BEGINS\n",
            "\tint is a keyword\n",
            "a is an IDENTIFIER\n",
            "b is an IDENTIFIER\n",
            "sum is an IDENTIFIER\n",
            "\n",
            "FUNCTION\n",
            "\tprintf(\n",
            "Enter is an IDENTIFIER\n",
            "two is an IDENTIFIER\n",
            "integers is an IDENTIFIER\n",
            "\n",
            "FUNCTION\n",
            "\tscanf(\n",
            "d is an IDENTIFIER\n",
            "d is an IDENTIFIER\n",
            "a is an IDENTIFIER\n",
            "b is an IDENTIFIER\n",
            "sum is an IDENTIFIER\n",
            "a is an IDENTIFIER\n",
            "b is an IDENTIFIER\n",
            "\n",
            "FUNCTION\n",
            "\tprintf(\n",
            "d is an IDENTIFIER\n",
            "d is an IDENTIFIER\n",
            "d is an IDENTIFIER\n",
            "a is an IDENTIFIER\n",
            "b is an IDENTIFIER\n",
            "sum is an IDENTIFIER\n",
            "return is an IDENTIFIER\n",
            "BLOCK ENDS\n",
            "\n"
          ]
        }
      ]
    }
  ]
}