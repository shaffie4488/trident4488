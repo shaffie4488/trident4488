{
  "nbformat": 4,
  "nbformat_minor": 0,
  "metadata": {
    "colab": {
      "provenance": [],
      "include_colab_link": true
    },
    "kernelspec": {
      "name": "python3",
      "display_name": "Python 3"
    },
    "language_info": {
      "name": "python"
    }
  },
  "cells": [
    {
      "cell_type": "markdown",
      "metadata": {
        "id": "view-in-github",
        "colab_type": "text"
      },
      "source": [
        "<a href=\"https://colab.research.google.com/github/shaffie4488/trident4488/blob/main/LEX_and_YACC_Compiler4.ipynb\" target=\"_parent\"><img src=\"https://colab.research.google.com/assets/colab-badge.svg\" alt=\"Open In Colab\"/></a>"
      ]
    },
    {
      "cell_type": "code",
      "source": [
        "!sudo apt-get install -y flex bison build-essential\n",
        "!sudo apt-get update\n"
      ],
      "metadata": {
        "id": "UYcbzQLWBREv",
        "outputId": "468b1190-6faa-44b2-e3db-b812321572f9",
        "colab": {
          "base_uri": "https://localhost:8080/"
        }
      },
      "execution_count": 17,
      "outputs": [
        {
          "output_type": "stream",
          "name": "stdout",
          "text": [
            "\r0% [Working]\r            \rGet:1 http://security.ubuntu.com/ubuntu jammy-security InRelease [129 kB]\n",
            "\r0% [Waiting for headers] [1 InRelease 14.2 kB/129 kB 11%] [Connected to cloud.r\r                                                                               \rHit:2 http://archive.ubuntu.com/ubuntu jammy InRelease\n",
            "\r0% [Waiting for headers] [1 InRelease 60.5 kB/129 kB 47%] [Connected to cloud.r\r                                                                               \rGet:3 http://archive.ubuntu.com/ubuntu jammy-updates InRelease [128 kB]\n",
            "\r                                                                               \rGet:4 https://cli.github.com/packages stable InRelease [3,917 B]\n",
            "\r0% [3 InRelease 15.6 kB/128 kB 12%] [1 InRelease 60.5 kB/129 kB 47%] [Waiting f\r                                                                               \rGet:5 https://cloud.r-project.org/bin/linux/ubuntu jammy-cran40/ InRelease [3,632 B]\n",
            "\r0% [3 InRelease 15.6 kB/128 kB 12%] [1 InRelease 73.5 kB/129 kB 57%] [5 InRelea\r0% [3 InRelease 15.6 kB/128 kB 12%] [1 InRelease 73.5 kB/129 kB 57%] [Connected\r                                                                               \rGet:6 https://developer.download.nvidia.com/compute/cuda/repos/ubuntu2204/x86_64  InRelease [1,581 B]\n",
            "\r0% [3 InRelease 15.6 kB/128 kB 12%] [1 InRelease 73.5 kB/129 kB 57%] [Connected\r0% [3 InRelease 15.6 kB/128 kB 12%] [1 InRelease 73.5 kB/129 kB 57%] [Connected\r0% [3 InRelease 43.1 kB/128 kB 34%] [Connected to r2u.stat.illinois.edu (192.17\r0% [Waiting for headers] [Waiting for headers] [Connecting to ppa.launchpadcont\r                                                                               \rGet:7 http://archive.ubuntu.com/ubuntu jammy-backports InRelease [127 kB]\n",
            "Get:8 https://r2u.stat.illinois.edu/ubuntu jammy InRelease [6,555 B]\n",
            "Get:9 https://cli.github.com/packages stable/main amd64 Packages [346 B]\n",
            "Get:10 https://developer.download.nvidia.com/compute/cuda/repos/ubuntu2204/x86_64  Packages [2,006 kB]\n",
            "Hit:11 https://ppa.launchpadcontent.net/deadsnakes/ppa/ubuntu jammy InRelease\n",
            "Hit:12 https://ppa.launchpadcontent.net/graphics-drivers/ppa/ubuntu jammy InRelease\n",
            "Get:13 http://security.ubuntu.com/ubuntu jammy-security/main amd64 Packages [3,310 kB]\n",
            "Hit:14 https://ppa.launchpadcontent.net/ubuntugis/ppa/ubuntu jammy InRelease\n",
            "Get:15 http://security.ubuntu.com/ubuntu jammy-security/universe amd64 Packages [1,273 kB]\n",
            "Get:16 http://archive.ubuntu.com/ubuntu jammy-updates/main amd64 Packages [3,623 kB]\n",
            "Get:17 http://archive.ubuntu.com/ubuntu jammy-updates/universe amd64 Packages [1,581 kB]\n",
            "Get:18 https://r2u.stat.illinois.edu/ubuntu jammy/main all Packages [9,238 kB]\n",
            "Get:19 https://r2u.stat.illinois.edu/ubuntu jammy/main amd64 Packages [2,790 kB]\n",
            "Fetched 24.2 MB in 2s (9,711 kB/s)\n",
            "Reading package lists... Done\n",
            "W: Skipping acquire of configured file 'main/source/Sources' as repository 'https://r2u.stat.illinois.edu/ubuntu jammy InRelease' does not seem to provide it (sources.list entry misspelt?)\n",
            "Reading package lists... Done\n",
            "Building dependency tree... Done\n",
            "Reading state information... Done\n",
            "bison is already the newest version (2:3.8.2+dfsg-1build1).\n",
            "build-essential is already the newest version (12.9ubuntu3).\n",
            "flex is already the newest version (2.6.4-8build2).\n",
            "0 upgraded, 0 newly installed, 0 to remove and 39 not upgraded.\n"
          ]
        }
      ]
    },
    {
      "cell_type": "code",
      "source": [
        "%%writefile ex4.l\n",
        "%{\n",
        "#include<stdio.h>\n",
        "#include<string.h>\n",
        "#include \"ex4.tab.h\"\n",
        "%}\n",
        "%%\n",
        "[ \\n\\t]+           ;\n",
        "\"main\"             { return MAIN; }\n",
        "\"int\"|\"float\"|\"double\"|\"char\" {\n",
        "    strcpy(yylval.string, yytext);\n",
        "    return TYPE;\n",
        "}\n",
        "[a-zA-Z][a-zA-Z0-9_]* {\n",
        "    strcpy(yylval.string, yytext);\n",
        "    return ID;\n",
        "}\n",
        "[0-9]+\\.[0-9]+ {\n",
        "    yylval.dval = atof(yytext);\n",
        "    return NUMBER;\n",
        "}\n",
        "[0-9]+ {\n",
        "    yylval.dval = atof(yytext);\n",
        "    return NUMBER;\n",
        "}\n",
        ".                   { return yytext[0]; }\n",
        "%%\n",
        "int yywrap() {\n",
        "    return 1;\n",
        "}\n"
      ],
      "metadata": {
        "id": "ykW3ucycBVhP",
        "outputId": "2e776942-81e5-4bc6-ebbd-0c0e020d45f4",
        "colab": {
          "base_uri": "https://localhost:8080/"
        }
      },
      "execution_count": 18,
      "outputs": [
        {
          "output_type": "stream",
          "name": "stdout",
          "text": [
            "Writing ex4.l\n"
          ]
        }
      ]
    },
    {
      "cell_type": "code",
      "source": [
        "%%writefile ex4.y\n",
        "%{\n",
        "#include<stdio.h>\n",
        "#include<string.h>\n",
        "#include<stdlib.h>\n",
        "\n",
        "int yylex(void);\n",
        "int yyerror(char *s);\n",
        "\n",
        "struct Symbol_Table {\n",
        "    char sym_name[10];\n",
        "    char sym_type[10];\n",
        "    double value;\n",
        "} Sym[10];\n",
        "\n",
        "int sym_cnt = 0;\n",
        "int Index = 0;\n",
        "int temp_var = 0;\n",
        "\n",
        "int search_symbol(char []);\n",
        "void make_symtab_entry(char [], char [], double);\n",
        "void display_sym_tab();\n",
        "void addQuadruple(char [], char [], char [], char []);\n",
        "void display_Quadruple();\n",
        "void push(char *);\n",
        "char* pop();\n",
        "\n",
        "struct Quadruple {\n",
        "    char operator[5];\n",
        "    char operand1[10];\n",
        "    char operand2[10];\n",
        "    char result[10];\n",
        "} QUAD[25];\n",
        "\n",
        "struct Stack {\n",
        "    char *items[10];\n",
        "    int top;\n",
        "} Stk;\n",
        "\n",
        "%}\n",
        "\n",
        "%union {\n",
        "    int ival;\n",
        "    double dval;\n",
        "    char string[10];\n",
        "}\n",
        "\n",
        "%token <dval> NUMBER\n",
        "%token <string> TYPE\n",
        "%token <string> ID\n",
        "%token MAIN\n",
        "%type <string> varlist expr\n",
        "%left '+' '-'\n",
        "%left '*' '/'\n",
        "\n",
        "%%\n",
        "\n",
        "program:\n",
        "    MAIN '(' ')' '{' body '}'\n",
        ";\n",
        "\n",
        "body:\n",
        "    varstmt stmtlist\n",
        ";\n",
        "\n",
        "varstmt:\n",
        "    vardecl varstmt\n",
        "|   /* empty */\n",
        ";\n",
        "\n",
        "vardecl:\n",
        "    TYPE varlist ';'\n",
        ";\n",
        "\n",
        "varlist:\n",
        "    varlist ',' ID {\n",
        "        int i = search_symbol($3);\n",
        "        if(i != -1)\n",
        "            printf(\"\\nMultiple Declaration of Variable %s\", $3);\n",
        "        else\n",
        "            make_symtab_entry($3, $<string>1, 0);\n",
        "    }\n",
        "|   ID '=' NUMBER {\n",
        "        int i = search_symbol($1);\n",
        "        if(i != -1)\n",
        "            printf(\"\\nMultiple Declaration of Variable %s\", $1);\n",
        "        else\n",
        "            make_symtab_entry($1, $<string>1, $3);\n",
        "    }\n",
        "|   varlist ',' ID '=' NUMBER {\n",
        "        int i = search_symbol($3);\n",
        "        if(i != -1)\n",
        "            printf(\"\\nMultiple Declaration of Variable %s\", $3);\n",
        "        else\n",
        "            make_symtab_entry($3, $<string>1, $5);\n",
        "    }\n",
        "|   ID {\n",
        "        int i = search_symbol($1);\n",
        "        if(i != -1)\n",
        "            printf(\"\\nMultiple Declaration of Variable %s\", $1);\n",
        "        else\n",
        "            make_symtab_entry($1, $<string>1, 0);\n",
        "    }\n",
        ";\n",
        "\n",
        "stmtlist:\n",
        "    stmt stmtlist\n",
        "|   /* empty */\n",
        ";\n",
        "\n",
        "stmt:\n",
        "    ID '=' NUMBER ';' {\n",
        "        int i = search_symbol($1);\n",
        "        if(i == -1)\n",
        "            printf(\"\\nUndefined Variable %s\", $1);\n",
        "        else {\n",
        "            char temp[10];\n",
        "            if(strcmp(Sym[i].sym_type, \"int\") == 0)\n",
        "                sprintf(temp, \"%d\", (int)$3);\n",
        "            else\n",
        "                snprintf(temp, 10, \"%f\", $3);\n",
        "            addQuadruple(\"=\", \"\", temp, $1);\n",
        "        }\n",
        "    }\n",
        "|   ID '=' ID ';' {\n",
        "        int i = search_symbol($1);\n",
        "        int j = search_symbol($3);\n",
        "        if(i == -1 || j == -1)\n",
        "            printf(\"\\nUndefined Variable %s or %s\", $1, $3);\n",
        "        else\n",
        "            addQuadruple(\"=\", \"\", $3, $1);\n",
        "    }\n",
        "|   ID '=' expr ';' {\n",
        "        addQuadruple(\"=\", \"\", pop(), $1);\n",
        "    }\n",
        ";\n",
        "\n",
        "expr:\n",
        "    expr '+' expr {\n",
        "        char str[5], str1[10] = \"t\";\n",
        "        sprintf(str, \"%d\", temp_var++);\n",
        "        strcat(str1, str);\n",
        "        addQuadruple(\"+\", pop(), pop(), str1);\n",
        "        push(str1);\n",
        "    }\n",
        "|   expr '-' expr {\n",
        "        char str[5], str1[10] = \"t\";\n",
        "        sprintf(str, \"%d\", temp_var++);\n",
        "        strcat(str1, str);\n",
        "        addQuadruple(\"-\", pop(), pop(), str1);\n",
        "        push(str1);\n",
        "    }\n",
        "|   expr '*' expr {\n",
        "        char str[5], str1[10] = \"t\";\n",
        "        sprintf(str, \"%d\", temp_var++);\n",
        "        strcat(str1, str);\n",
        "        addQuadruple(\"*\", pop(), pop(), str1);\n",
        "        push(str1);\n",
        "    }\n",
        "|   expr '/' expr {\n",
        "        char str[5], str1[10] = \"t\";\n",
        "        sprintf(str, \"%d\", temp_var++);\n",
        "        strcat(str1, str);\n",
        "        addQuadruple(\"/\", pop(), pop(), str1);\n",
        "        push(str1);\n",
        "    }\n",
        "|   ID {\n",
        "        int i = search_symbol($1);\n",
        "        if(i == -1)\n",
        "            printf(\"\\nUndefined Variable %s\", $1);\n",
        "        else\n",
        "            push($1);\n",
        "    }\n",
        "|   NUMBER {\n",
        "        char temp[10];\n",
        "        snprintf(temp, 10, \"%f\", $1);\n",
        "        push(temp);\n",
        "    }\n",
        ";\n",
        "\n",
        "%%\n",
        "\n",
        "extern FILE *yyin;\n",
        "\n",
        "int main() {\n",
        "    Stk.top = -1;\n",
        "    yyin = fopen(\"input.txt\", \"r\");\n",
        "    if (!yyin) {\n",
        "        perror(\"input.txt\");\n",
        "        return 1;\n",
        "    }\n",
        "    yyparse();\n",
        "    display_sym_tab();\n",
        "    printf(\"\\n\\n\");\n",
        "    display_Quadruple();\n",
        "    printf(\"\\n\\n\");\n",
        "    return 0;\n",
        "}\n",
        "\n",
        "int search_symbol(char sym[10]) {\n",
        "    for(int i = 0; i < sym_cnt; i++) {\n",
        "        if(strcmp(Sym[i].sym_name, sym) == 0)\n",
        "            return i;\n",
        "    }\n",
        "    return -1;\n",
        "}\n",
        "\n",
        "void make_symtab_entry(char sym[10], char dtype[10], double val) {\n",
        "    strcpy(Sym[sym_cnt].sym_name, sym);\n",
        "    strcpy(Sym[sym_cnt].sym_type, dtype);\n",
        "    Sym[sym_cnt].value = val;\n",
        "    sym_cnt++;\n",
        "}\n",
        "\n",
        "void display_sym_tab() {\n",
        "    printf(\"\\n\\nThe Symbol Table\\n\\n\");\n",
        "    printf(\"Name\\tType\\tValue\\n\");\n",
        "    for(int i = 0; i < sym_cnt; i++)\n",
        "        printf(\"%s\\t%s\\t%f\\n\", Sym[i].sym_name, Sym[i].sym_type, Sym[i].value);\n",
        "}\n",
        "\n",
        "void display_Quadruple() {\n",
        "    printf(\"\\n\\nThe INTERMEDIATE CODE Is:\\n\\n\");\n",
        "    printf(\"Index\\tResult\\tOperator\\tOperand1\\tOperand2\\n\");\n",
        "    for(int i = 0; i < Index; i++)\n",
        "        printf(\"%d\\t%s\\t%s\\t\\t%s\\t\\t%s\\n\", i, QUAD[i].result, QUAD[i].operator, QUAD[i].operand1, QUAD[i].operand2);\n",
        "}\n",
        "\n",
        "int yyerror(char *s) {\n",
        "    printf(\"\\nERROR!! %s\\n\", s);\n",
        "    return 1;\n",
        "}\n",
        "\n",
        "void push(char *str) {\n",
        "    if (Stk.top >= 9) {\n",
        "        printf(\"\\nStack Overflow!!\\n\");\n",
        "        exit(1);\n",
        "    }\n",
        "    Stk.top++;\n",
        "    Stk.items[Stk.top] = (char *)malloc(strlen(str) + 1);\n",
        "    strcpy(Stk.items[Stk.top], str);\n",
        "}\n",
        "\n",
        "char* pop() {\n",
        "    if (Stk.top == -1) {\n",
        "        printf(\"\\nStack Empty!!\\n\");\n",
        "        exit(1);\n",
        "    }\n",
        "    char *str = (char *)malloc(strlen(Stk.items[Stk.top]) + 1);\n",
        "    strcpy(str, Stk.items[Stk.top]);\n",
        "    free(Stk.items[Stk.top]);\n",
        "    Stk.top--;\n",
        "    return str;\n",
        "}\n",
        "\n",
        "void addQuadruple(char op[10], char op2[10], char op1[10], char res[10]) {\n",
        "    strcpy(QUAD[Index].operator, op);\n",
        "    strcpy(QUAD[Index].operand2, op2);\n",
        "    strcpy(QUAD[Index].operand1, op1);\n",
        "    strcpy(QUAD[Index].result, res);\n",
        "    Index++;\n",
        "}\n"
      ],
      "metadata": {
        "id": "I7g6QpXvBYpn",
        "outputId": "9401324a-1b0a-406a-992c-53fd8f46134c",
        "colab": {
          "base_uri": "https://localhost:8080/"
        }
      },
      "execution_count": 19,
      "outputs": [
        {
          "output_type": "stream",
          "name": "stdout",
          "text": [
            "Writing ex4.y\n"
          ]
        }
      ]
    },
    {
      "cell_type": "code",
      "source": [
        "%%writefile input.txt\n",
        "main() {\n",
        "    int a, b;\n",
        "    a = 5;\n",
        "    b = a + 3;\n",
        "}\n"
      ],
      "metadata": {
        "id": "qdofuw7ABb1o",
        "outputId": "ca906972-b2dd-4e66-a48c-f85d5dc64978",
        "colab": {
          "base_uri": "https://localhost:8080/"
        }
      },
      "execution_count": 20,
      "outputs": [
        {
          "output_type": "stream",
          "name": "stdout",
          "text": [
            "Writing input.txt\n"
          ]
        }
      ]
    },
    {
      "cell_type": "code",
      "source": [
        "!bison -d ex4.y\n",
        "!flex ex4.l\n",
        "!gcc ex4.tab.c lex.yy.c -o parser -lfl\n"
      ],
      "metadata": {
        "id": "U0DNIkv4BgLn",
        "outputId": "636b43b4-5090-4854-bbfe-a80e086b5c08",
        "colab": {
          "base_uri": "https://localhost:8080/"
        }
      },
      "execution_count": 21,
      "outputs": [
        {
          "output_type": "stream",
          "name": "stdout",
          "text": [
            "ex4.y: warning: 2 shift/reduce conflicts [-Wconflicts-sr]\n",
            "ex4.y: note: rerun with option '-Wcounterexamples' to generate conflict counterexamples\n"
          ]
        }
      ]
    },
    {
      "cell_type": "code",
      "source": [
        "!./parser\n"
      ],
      "metadata": {
        "id": "y-G45lqhBkpP",
        "outputId": "768bf768-90ae-4ec3-bf4f-dfc94510e50c",
        "colab": {
          "base_uri": "https://localhost:8080/"
        }
      },
      "execution_count": 22,
      "outputs": [
        {
          "output_type": "stream",
          "name": "stdout",
          "text": [
            "\n",
            "\n",
            "The Symbol Table\n",
            "\n",
            "Name\tType\tValue\n",
            "a\ta\t0.000000\n",
            "b\ta\t0.000000\n",
            "\n",
            "\n",
            "\n",
            "\n",
            "The INTERMEDIATE CODE Is:\n",
            "\n",
            "Index\tResult\tOperator\tOperand1\tOperand2\n",
            "0\ta\t=\t\t5.000000\t\t\n",
            "1\tt0\t+\t\t3.000000\t\ta\n",
            "2\tb\t=\t\tt0\t\t\n",
            "\n",
            "\n"
          ]
        }
      ]
    },
    {
      "cell_type": "code",
      "source": [],
      "metadata": {
        "id": "Epczj9Y9BnzX"
      },
      "execution_count": 22,
      "outputs": []
    }
  ]
}